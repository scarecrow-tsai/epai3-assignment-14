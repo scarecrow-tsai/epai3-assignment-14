{
 "cells": [
  {
   "cell_type": "markdown",
   "id": "95024eaf-ee08-4f54-b335-dd9a5d0b2648",
   "metadata": {},
   "source": [
    "# Assignment 14"
   ]
  },
  {
   "cell_type": "code",
   "execution_count": 1,
   "id": "3f1dcd0a-1eaa-4542-a010-fcde1a7c012f",
   "metadata": {},
   "outputs": [],
   "source": [
    "from itertools import islice\n",
    "from datetime import datetime\n",
    "\n",
    "\n",
    "from session14 import (\n",
    "    create_generator_employee_info, \n",
    "    create_generator_personal_info, \n",
    "    create_generator_update_info, \n",
    "    create_generator_vehicle_info,\n",
    "    create_generator_combined_info,\n",
    "    get_popular_car\n",
    ")"
   ]
  },
  {
   "cell_type": "markdown",
   "id": "f8e1f9ab-6578-4c9d-aaed-793a62e6de76",
   "metadata": {},
   "source": [
    "## Goal 1"
   ]
  },
  {
   "cell_type": "code",
   "execution_count": 2,
   "id": "67dbf4cc-fc96-4d37-9c32-9e509e925190",
   "metadata": {},
   "outputs": [
    {
     "data": {
      "text/plain": [
       "[personal_info(ssn='100-53-9824', first_name='Sebastiano', last_name='Tester', gender='Male', language='Icelandic'),\n",
       " personal_info(ssn='101-71-4702', first_name='Cayla', last_name='MacDonagh', gender='Female', language='Lao'),\n",
       " personal_info(ssn='101-84-0356', first_name='Nomi', last_name='Lipprose', gender='Female', language='Yiddish')]"
      ]
     },
     "execution_count": 2,
     "metadata": {},
     "output_type": "execute_result"
    }
   ],
   "source": [
    "personal_info_gen = create_generator_personal_info(\"./personal_info.csv\")\n",
    "list(islice(personal_info_gen, 0, 3))"
   ]
  },
  {
   "cell_type": "code",
   "execution_count": 3,
   "id": "1e5c2c9a-c3f0-4c49-ac78-8f31662bbb7d",
   "metadata": {},
   "outputs": [
    {
     "data": {
      "text/plain": [
       "[vehicle_info(ssn='100-53-9824', vehicle_make='Oldsmobile', vehicle_model='Bravada', model_year=1993),\n",
       " vehicle_info(ssn='101-71-4702', vehicle_make='Ford', vehicle_model='Mustang', model_year=1997),\n",
       " vehicle_info(ssn='101-84-0356', vehicle_make='GMC', vehicle_model='Yukon', model_year=2005)]"
      ]
     },
     "execution_count": 3,
     "metadata": {},
     "output_type": "execute_result"
    }
   ],
   "source": [
    "vehicle_info_gen = create_generator_vehicle_info(\"./vehicles.csv\")\n",
    "list(islice(vehicle_info_gen, 0, 3))"
   ]
  },
  {
   "cell_type": "code",
   "execution_count": 4,
   "id": "4869d023-d984-4713-b355-8502826b9eee",
   "metadata": {},
   "outputs": [
    {
     "data": {
      "text/plain": [
       "[employment_info(employer='Stiedemann-Bailey', department='Research and Development', employee_id='29-0890771', ssn='100-53-9824'),\n",
       " employment_info(employer='Nicolas and Sons', department='Sales', employee_id='41-6841359', ssn='101-71-4702'),\n",
       " employment_info(employer='Connelly Group', department='Research and Development', employee_id='98-7952860', ssn='101-84-0356')]"
      ]
     },
     "execution_count": 4,
     "metadata": {},
     "output_type": "execute_result"
    }
   ],
   "source": [
    "employee_info_gen = create_generator_employee_info(\"./employment.csv\")\n",
    "list(islice(employee_info_gen, 0, 3))"
   ]
  },
  {
   "cell_type": "code",
   "execution_count": 5,
   "id": "d844d745-f0ce-4f46-826c-feebfcdca715",
   "metadata": {},
   "outputs": [
    {
     "data": {
      "text/plain": [
       "[update_info(ssn='100-53-9824', last_updated=datetime.datetime(2017, 10, 7, 0, 0), created=datetime.datetime(2016, 1, 24, 0, 0)),\n",
       " update_info(ssn='101-71-4702', last_updated=datetime.datetime(2017, 1, 23, 0, 0), created=datetime.datetime(2016, 1, 27, 0, 0)),\n",
       " update_info(ssn='101-84-0356', last_updated=datetime.datetime(2017, 10, 4, 0, 0), created=datetime.datetime(2016, 9, 21, 0, 0))]"
      ]
     },
     "execution_count": 5,
     "metadata": {},
     "output_type": "execute_result"
    }
   ],
   "source": [
    "update_info_gen = create_generator_update_info(\"./update_status.csv\")\n",
    "list(islice(update_info_gen, 0, 3))"
   ]
  },
  {
   "cell_type": "markdown",
   "id": "a3576725-a058-4f8b-9ad0-4297d29bf992",
   "metadata": {},
   "source": [
    "## Goal 2"
   ]
  },
  {
   "cell_type": "code",
   "execution_count": 6,
   "id": "29b87238-c1c7-4b27-9002-234e4ed9d198",
   "metadata": {},
   "outputs": [],
   "source": [
    "personal_info_gen = create_generator_personal_info(\"./personal_info.csv\")\n",
    "vehicle_info_gen = create_generator_vehicle_info(\"./vehicles.csv\")\n",
    "employee_info_gen = create_generator_employee_info(\"./employment.csv\")\n",
    "update_info_gen = create_generator_update_info(\"./update_status.csv\")"
   ]
  },
  {
   "cell_type": "code",
   "execution_count": 7,
   "id": "15e97eb6-6ef8-4ed9-b652-1d8b91d39e83",
   "metadata": {},
   "outputs": [
    {
     "data": {
      "text/plain": [
       "[combined_info(ssn='100-53-9824', first_name='Sebastiano', last_name='Tester', gender='Male', language='Icelandic', vehicle_make='Oldsmobile', vehicle_model='Bravada', model_year=1993, employer='Stiedemann-Bailey', department='Research and Development', employee_id='29-0890771', last_updated=datetime.datetime(2017, 10, 7, 0, 0), created=datetime.datetime(2016, 1, 24, 0, 0)),\n",
       " combined_info(ssn='101-71-4702', first_name='Cayla', last_name='MacDonagh', gender='Female', language='Lao', vehicle_make='Ford', vehicle_model='Mustang', model_year=1997, employer='Nicolas and Sons', department='Sales', employee_id='41-6841359', last_updated=datetime.datetime(2017, 1, 23, 0, 0), created=datetime.datetime(2016, 1, 27, 0, 0)),\n",
       " combined_info(ssn='101-84-0356', first_name='Nomi', last_name='Lipprose', gender='Female', language='Yiddish', vehicle_make='GMC', vehicle_model='Yukon', model_year=2005, employer='Connelly Group', department='Research and Development', employee_id='98-7952860', last_updated=datetime.datetime(2017, 10, 4, 0, 0), created=datetime.datetime(2016, 9, 21, 0, 0))]"
      ]
     },
     "execution_count": 7,
     "metadata": {},
     "output_type": "execute_result"
    }
   ],
   "source": [
    "combined_gen = create_generator_combined_info((personal_info_gen, \n",
    "                                vehicle_info_gen, \n",
    "                                employee_info_gen, \n",
    "                                update_info_gen))\n",
    "list(islice(combined_gen, 0, 3))"
   ]
  },
  {
   "cell_type": "markdown",
   "id": "2fd061a6-9467-4952-81ac-d58cc6c01900",
   "metadata": {},
   "source": [
    "## Goal 3"
   ]
  },
  {
   "cell_type": "code",
   "execution_count": 8,
   "id": "8bbb253c-5489-4f88-9a30-8a2cff4eafed",
   "metadata": {},
   "outputs": [],
   "source": [
    "combined_gen = create_generator_combined_info((create_generator_personal_info(\"./personal_info.csv\"),\n",
    "                                               create_generator_vehicle_info(\"./vehicles.csv\"), \n",
    "                                               create_generator_employee_info(\"./employment.csv\"), \n",
    "                                               create_generator_update_info(\"./update_status.csv\")\n",
    "                                              ))"
   ]
  },
  {
   "cell_type": "code",
   "execution_count": 9,
   "id": "d7649cb2-f6c9-41ac-9dbd-b50a5f1973f0",
   "metadata": {},
   "outputs": [],
   "source": [
    "stale_date_threshold = datetime.strptime('03/01/2017', '%m/%d/%Y')\n",
    "current_records = (record for record in combined_gen if record.last_updated > stale_date_threshold)"
   ]
  },
  {
   "cell_type": "markdown",
   "id": "d8a26cd5-fd94-4033-aba8-70b09766ba7c",
   "metadata": {},
   "source": [
    "> Total records = 1000\n",
    ">\n",
    "> Current records = 871"
   ]
  },
  {
   "cell_type": "code",
   "execution_count": 10,
   "id": "66cf8a86-f2b8-4dbf-8a3a-095abcbdc739",
   "metadata": {},
   "outputs": [
    {
     "data": {
      "text/plain": [
       "871"
      ]
     },
     "execution_count": 10,
     "metadata": {},
     "output_type": "execute_result"
    }
   ],
   "source": [
    "len(list(current_records))"
   ]
  },
  {
   "cell_type": "markdown",
   "id": "7989e4c5-9009-49b4-9f1e-438ebc774a31",
   "metadata": {},
   "source": [
    "## Goal 4"
   ]
  },
  {
   "cell_type": "code",
   "execution_count": 11,
   "id": "59f84f5b-bef7-429b-84c4-dde0649531cb",
   "metadata": {},
   "outputs": [
    {
     "data": {
      "text/plain": [
       "('Ford', 43)"
      ]
     },
     "execution_count": 11,
     "metadata": {},
     "output_type": "execute_result"
    }
   ],
   "source": [
    "combined_gen = create_generator_combined_info((create_generator_personal_info(\"./personal_info.csv\"),\n",
    "                                               create_generator_vehicle_info(\"./vehicles.csv\"), \n",
    "                                               create_generator_employee_info(\"./employment.csv\"), \n",
    "                                               create_generator_update_info(\"./update_status.csv\")\n",
    "                                              ))\n",
    "\n",
    "male_cars = (record.vehicle_make for record in combined_gen if record.gender == \"Male\")\n",
    "\n",
    "get_popular_car(male_cars)"
   ]
  },
  {
   "cell_type": "code",
   "execution_count": 12,
   "id": "81504d70-dda3-4833-87fe-998f40e2d7d9",
   "metadata": {},
   "outputs": [
    {
     "data": {
      "text/plain": [
       "('Ford', 47)"
      ]
     },
     "execution_count": 12,
     "metadata": {},
     "output_type": "execute_result"
    }
   ],
   "source": [
    "combined_gen = create_generator_combined_info((create_generator_personal_info(\"./personal_info.csv\"),\n",
    "                                               create_generator_vehicle_info(\"./vehicles.csv\"), \n",
    "                                               create_generator_employee_info(\"./employment.csv\"), \n",
    "                                               create_generator_update_info(\"./update_status.csv\")\n",
    "                                              ))\n",
    "\n",
    "female_cars = (record.vehicle_make for record in combined_gen if record.gender == \"Female\")\n",
    "\n",
    "get_popular_car(female_cars)"
   ]
  }
 ],
 "metadata": {
  "kernelspec": {
   "display_name": "Python 3",
   "language": "python",
   "name": "python3"
  },
  "language_info": {
   "codemirror_mode": {
    "name": "ipython",
    "version": 3
   },
   "file_extension": ".py",
   "mimetype": "text/x-python",
   "name": "python",
   "nbconvert_exporter": "python",
   "pygments_lexer": "ipython3",
   "version": "3.9.5"
  }
 },
 "nbformat": 4,
 "nbformat_minor": 5
}
